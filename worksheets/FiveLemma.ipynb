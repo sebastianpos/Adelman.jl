{
 "cells": [
  {
   "cell_type": "code",
   "execution_count": 1,
   "id": "224edb14",
   "metadata": {},
   "outputs": [
    {
     "name": "stdout",
     "output_type": "stream",
     "text": [
      " ┌───────┐   GAP 4.12dev-1026-g3c581ce-dirty built on 2021-08-27 12:27:03+0000\n",
      " │  GAP  │   https://www.gap-system.org\n",
      " └───────┘   Architecture: x86_64-pc-linux-gnu-julia64-kv8\n",
      " Configuration:  gmp 6.2.0, Julia GC, Julia 1.6.2\n",
      " Loading the library and packages ...\n",
      " Packages:   AClib 1.3.2, Alnuth 3.1.2, AtlasRep 2.1.0, AutoDoc 2020.08.11, \n",
      "             AutPGrp 1.10.2, CRISP 1.4.5, Cryst 4.1.24, CrystCat 1.1.9, \n",
      "             CTblLib 1.3.2, FactInt 1.6.3, FGA 1.4.0, Forms 1.2.6, \n",
      "             GAPDoc 1.6.4, genss 1.6.6, IO 4.7.1, IRREDSOL 1.4.3, \n",
      "             JuliaInterface 0.6.2, LAGUNA 3.9.3, orb 4.8.3, Polenta 1.3.9, \n",
      "             Polycyclic 2.16, PrimGrp 3.4.1, RadiRoot 2.8, recog 1.3.2, \n",
      "             ResClasses 4.7.2, SmallGrp 1.4.2, Sophus 1.24, SpinSym 1.5.2, \n",
      "             TomLib 1.2.9, TransGrp 3.3, utils 0.69\n",
      " Try '??help' for help. See also '?copyright', '?cite' and '?authors'\n",
      "CapAndHomalg v\u001b[32m1.1.8\u001b[39m\n",
      "Imported OSCAR's components GAP and Singular_jll\n",
      "Type: ?CapAndHomalg for more information\n"
     ]
    },
    {
     "data": {
      "text/plain": [
       "Main.Adelman"
      ]
     },
     "execution_count": 1,
     "metadata": {},
     "output_type": "execute_result"
    }
   ],
   "source": [
    "include( \"../src/Adelman.jl\" )"
   ]
  },
  {
   "cell_type": "code",
   "execution_count": 2,
   "id": "674c99e8",
   "metadata": {},
   "outputs": [],
   "source": [
    "using .Adelman"
   ]
  },
  {
   "cell_type": "code",
   "execution_count": 3,
   "id": "7f445952",
   "metadata": {},
   "outputs": [
    {
     "data": {
      "text/latex": [
       "Adelman category"
      ],
      "text/plain": [
       "AdelCat(Main.Adelman.Cat(GAP: Adelman category( QuiverRows( (Q * Q) / [ 1*(a*b*d), 1*(e*g*h), 1*(b*c), 1*(f*g), -1*(d*f) + 1*(c*e) ] ) descended to Z )))"
      ]
     },
     "execution_count": 3,
     "metadata": {},
     "output_type": "execute_result"
    }
   ],
   "source": [
    "Adel = AdelmanCategory( \"Q(8)[a:1->2,b:2->3,c:3->4,d:3->5,e:4->6,f:5->6,g:6->7,h:7->8]\", \"abd, egh, bc, fg, ce - df\" )"
   ]
  },
  {
   "cell_type": "code",
   "execution_count": 4,
   "id": "ea7f92d9",
   "metadata": {},
   "outputs": [
    {
     "data": {
      "text/latex": [
       "${ \\big(0\\xrightarrow{0}{  \\color{blue}{V_{7}^{}} }\\xrightarrow{0}0\\big)}{\\color{blue}{\\xrightarrow{\\begin{pmatrix}{(h) }\\end{pmatrix}}}}{ \\big(0\\xrightarrow{0}{  \\color{blue}{V_{8}^{}} }\\xrightarrow{0}0\\big)}$"
      ],
      "text/plain": [
       "AdelMor(Main.Adelman.Mor(GAP: <A morphism in Adelman category( QuiverRows( (Q * Q) / [ 1*(a*b*d), 1*(e*g*h), 1*(b*c), 1*(f*g), -1*(d*f) + 1*(c*e) ] ) descended to Z )>))"
      ]
     },
     "execution_count": 4,
     "metadata": {},
     "output_type": "execute_result"
    }
   ],
   "source": [
    "a = \"a\"/Adel\n",
    "b = \"b\"/Adel\n",
    "c = \"c\"/Adel\n",
    "d = \"d\"/Adel\n",
    "e = \"e\"/Adel\n",
    "f = \"f\"/Adel\n",
    "g = \"g\"/Adel\n",
    "h = \"h\"/Adel"
   ]
  },
  {
   "cell_type": "code",
   "execution_count": 5,
   "id": "05073151",
   "metadata": {},
   "outputs": [
    {
     "data": {
      "text/latex": [
       "${ \\big(V_{2}^{\\oplus2} \\oplus V_{5}^{} \\oplus V_{3}^{} \\oplus V_{2}^{} \\oplus V_{3}^{}\\xrightarrow{\\begin{pmatrix}{(bd) }&{ 0 }&{ 0 }&{ 0 }&{ 0 }\\\\{ 0 }&{(2) }&{ 0 }&{ 0 }&{ 0 }\\\\{ 0 }&{ 0 }&{(5) }&{ 0 }&{ 0 }\\\\{(d) }&{ 0 }&{ 0 }&{(3) }&{ 0 }\\\\{ 3(bd) }&{ 0 }&{ -2(bd) }&{(b) }&{ 0 }\\\\{ 0 }&{ 0 }&{(d) }&{(3) }&{(c) }\\end{pmatrix}}{  \\color{blue}{V_{5}^{} \\oplus V_{2}^{} \\oplus V_{5}^{} \\oplus V_{3}^{} \\oplus V_{4}^{}} }\\xrightarrow{\\begin{pmatrix}{(5) }&{ 0 }&{ 0 }&{ 0 }\\\\{(bd) }&{ 0 }&{ 0 }&{ 0 }\\\\{(5) }&{(f) }&{ 0 }&{ 0 }\\\\{ 0 }&{ 0 }&{(3) }&{ 0 }\\\\{ 0 }&{ 0 }&{ 0 }&{(4) }\\end{pmatrix}}V_{5}^{} \\oplus V_{6}^{} \\oplus V_{3}^{} \\oplus V_{4}^{}\\big)}$"
      ],
      "text/plain": [
       "AdelObj(Main.Adelman.Obj(GAP: <An object in Adelman category( QuiverRows( (Q * Q) / [ 1*(a*b*d), 1*(e*g*h), 1*(b*c), 1*(f*g), -1*(d*f) + 1*(c*e) ] ) descended to Z )>))"
      ]
     },
     "execution_count": 5,
     "metadata": {},
     "output_type": "execute_result"
    }
   ],
   "source": [
    "C = CokernelObject( HomologyObjectFunctorial( b, c, d, CokernelColift( a, b ⋅ d ), f ) )"
   ]
  },
  {
   "cell_type": "code",
   "execution_count": 6,
   "id": "b1a7ac7a",
   "metadata": {},
   "outputs": [
    {
     "data": {
      "text/latex": [
       "${ \\big(V_{3}^{\\oplus2} \\oplus V_{4}^{} \\oplus V_{3}^{\\oplus2} \\oplus V_{4}^{}\\xrightarrow{\\begin{pmatrix}{(c) }&{(d) }&{ 0 }&{ 0 }&{ 0 }&{ 0 }&{ 0 }\\\\{ 0 }&{ 0 }&{(3) }&{ 0 }&{ 0 }&{ 0 }&{ 0 }\\\\{ 0 }&{ 0 }&{ 0 }&{(4) }&{ 0 }&{ 0 }&{ 0 }\\\\{ 0 }&{ 0 }&{ 0 }&{ 0 }&{(3) }&{ 0 }&{ 0 }\\\\{ 0 }&{ 0 }&{ 0 }&{ 0 }&{ 0 }&{(3) }&{ 0 }\\\\{ 0 }&{ 0 }&{ 0 }&{ 0 }&{ 0 }&{ 0 }&{(4) }\\end{pmatrix}}{  \\color{blue}{V_{4}^{} \\oplus V_{5}^{} \\oplus V_{3}^{} \\oplus V_{4}^{} \\oplus V_{3}^{\\oplus2} \\oplus V_{4}^{}} }\\xrightarrow{\\begin{pmatrix}{(e) }&{ 0 }&{(4) }&{ 0 }&{ 0 }&{ 0 }&{ 0 }&{ 0 }\\\\{ 0 }&{(5) }&{ 0 }&{(5) }&{ 0 }&{ 0 }&{ 0 }&{ 0 }\\\\{ 0 }&{ 0 }&{(c) }&{(d) }&{ 0 }&{ 0 }&{ 0 }&{ 0 }\\\\{ 0 }&{ 0 }&{(4) }&{ 0 }&{(e) }&{(4) }&{ 0 }&{-(4) }\\\\{ 0 }&{ 0 }&{ 0 }&{ 0 }&{ 0 }&{(c) }&{ 0 }&{ 0 }\\\\{ 0 }&{ 0 }&{ 0 }&{ 0 }&{ 0 }&{ 0 }&{(3) }&{ 0 }\\\\{ 0 }&{ 0 }&{ 0 }&{ 0 }&{ 0 }&{ 0 }&{ 0 }&{(4) }\\end{pmatrix}}V_{6}^{} \\oplus V_{5}^{} \\oplus V_{4}^{} \\oplus V_{5}^{} \\oplus V_{6}^{} \\oplus V_{4}^{} \\oplus V_{3}^{} \\oplus V_{4}^{}\\big)}$"
      ],
      "text/plain": [
       "AdelObj(Main.Adelman.Obj(GAP: <An object in Adelman category( QuiverRows( (Q * Q) / [ 1*(a*b*d), 1*(e*g*h), 1*(b*c), 1*(f*g), -1*(d*f) + 1*(c*e) ] ) descended to Z )>))"
      ]
     },
     "execution_count": 6,
     "metadata": {},
     "output_type": "execute_result"
    }
   ],
   "source": [
    "m_1 = KernelObjectFunctorial( d, c, e )\n",
    "K = KernelObject( e )\n",
    "H = HomologyObject( c, KernelLift( h, e ⋅ g) )\n",
    "m_2 = HomGens( K, H )[1]\n",
    "D = HomologyObject( m_1, m_2 )"
   ]
  },
  {
   "cell_type": "code",
   "execution_count": 7,
   "id": "a1a1addd",
   "metadata": {},
   "outputs": [
    {
     "data": {
      "text/latex": [
       "$\\big(\\mathbb{Z}^{1 \\times 0}\\xrightarrow{()_{0 \\times 1}}\\mathbb{Z}^{1 \\times 1}\\big)_{\\mathcal{A}}$"
      ],
      "text/plain": [
       "FreydObj(Main.Adelman.Obj(GAP: <An object in Freyd( Rows( Z ) )>))"
      ]
     },
     "execution_count": 7,
     "metadata": {},
     "output_type": "execute_result"
    }
   ],
   "source": [
    "Simplify( Hom( D, C ) )"
   ]
  },
  {
   "cell_type": "code",
   "execution_count": 8,
   "id": "0ca87145",
   "metadata": {},
   "outputs": [
    {
     "data": {
      "text/latex": [
       "${ \\big(V_{3}^{\\oplus2} \\oplus V_{4}^{} \\oplus V_{3}^{\\oplus2} \\oplus V_{4}^{}\\xrightarrow{\\begin{pmatrix}{(c) }&{(d) }&{ 0 }&{ 0 }&{ 0 }&{ 0 }&{ 0 }\\\\{ 0 }&{ 0 }&{(3) }&{ 0 }&{ 0 }&{ 0 }&{ 0 }\\\\{ 0 }&{ 0 }&{ 0 }&{(4) }&{ 0 }&{ 0 }&{ 0 }\\\\{ 0 }&{ 0 }&{ 0 }&{ 0 }&{(3) }&{ 0 }&{ 0 }\\\\{ 0 }&{ 0 }&{ 0 }&{ 0 }&{ 0 }&{(3) }&{ 0 }\\\\{ 0 }&{ 0 }&{ 0 }&{ 0 }&{ 0 }&{ 0 }&{(4) }\\end{pmatrix}}{  \\color{blue}{V_{4}^{} \\oplus V_{5}^{} \\oplus V_{3}^{} \\oplus V_{4}^{} \\oplus V_{3}^{\\oplus2} \\oplus V_{4}^{}} }\\xrightarrow{\\begin{pmatrix}{(e) }&{ 0 }&{(4) }&{ 0 }&{ 0 }&{ 0 }&{ 0 }&{ 0 }\\\\{ 0 }&{(5) }&{ 0 }&{(5) }&{ 0 }&{ 0 }&{ 0 }&{ 0 }\\\\{ 0 }&{ 0 }&{(c) }&{(d) }&{ 0 }&{ 0 }&{ 0 }&{ 0 }\\\\{ 0 }&{ 0 }&{(4) }&{ 0 }&{(e) }&{(4) }&{ 0 }&{-(4) }\\\\{ 0 }&{ 0 }&{ 0 }&{ 0 }&{ 0 }&{(c) }&{ 0 }&{ 0 }\\\\{ 0 }&{ 0 }&{ 0 }&{ 0 }&{ 0 }&{ 0 }&{(3) }&{ 0 }\\\\{ 0 }&{ 0 }&{ 0 }&{ 0 }&{ 0 }&{ 0 }&{ 0 }&{(4) }\\end{pmatrix}}V_{6}^{} \\oplus V_{5}^{} \\oplus V_{4}^{} \\oplus V_{5}^{} \\oplus V_{6}^{} \\oplus V_{4}^{} \\oplus V_{3}^{} \\oplus V_{4}^{}\\big)}{\\color{blue}{\\xrightarrow{\\begin{pmatrix}{ 0 }&{ 0 }&{ 0 }&{ 0 }&{(4) }\\\\{-(5) }&{ 0 }&{ 2(5) }&{ 0 }&{ 0 }\\\\{-(d) }&{ 0 }&{(d) }&{ 0 }&{(c) }\\\\{ 0 }&{ 0 }&{ 0 }&{ 0 }&{ 0 }\\\\{(d) }&{ 0 }&{-(d) }&{ 0 }&{-(c) }\\\\{ 0 }&{ 0 }&{ 0 }&{ 0 }&{ 0 }\\\\{ 0 }&{ 0 }&{ 0 }&{ 0 }&{ 0 }\\end{pmatrix}}}}{ \\big(V_{2}^{\\oplus2} \\oplus V_{5}^{} \\oplus V_{3}^{} \\oplus V_{2}^{} \\oplus V_{3}^{}\\xrightarrow{\\begin{pmatrix}{(bd) }&{ 0 }&{ 0 }&{ 0 }&{ 0 }\\\\{ 0 }&{(2) }&{ 0 }&{ 0 }&{ 0 }\\\\{ 0 }&{ 0 }&{(5) }&{ 0 }&{ 0 }\\\\{(d) }&{ 0 }&{ 0 }&{(3) }&{ 0 }\\\\{ 3(bd) }&{ 0 }&{ -2(bd) }&{(b) }&{ 0 }\\\\{ 0 }&{ 0 }&{(d) }&{(3) }&{(c) }\\end{pmatrix}}{  \\color{blue}{V_{5}^{} \\oplus V_{2}^{} \\oplus V_{5}^{} \\oplus V_{3}^{} \\oplus V_{4}^{}} }\\xrightarrow{\\begin{pmatrix}{(5) }&{ 0 }&{ 0 }&{ 0 }\\\\{(bd) }&{ 0 }&{ 0 }&{ 0 }\\\\{(5) }&{(f) }&{ 0 }&{ 0 }\\\\{ 0 }&{ 0 }&{(3) }&{ 0 }\\\\{ 0 }&{ 0 }&{ 0 }&{(4) }\\end{pmatrix}}V_{5}^{} \\oplus V_{6}^{} \\oplus V_{3}^{} \\oplus V_{4}^{}\\big)}$"
      ],
      "text/plain": [
       "AdelMor(Main.Adelman.Mor(GAP: <A morphism in Adelman category( QuiverRows( (Q * Q) / [ 1*(a*b*d), 1*(e*g*h), 1*(b*c), 1*(f*g), -1*(d*f) + 1*(c*e) ] ) descended to Z )>))"
      ]
     },
     "execution_count": 8,
     "metadata": {},
     "output_type": "execute_result"
    }
   ],
   "source": [
    "m = HomGens( D, C )[1]"
   ]
  },
  {
   "cell_type": "code",
   "execution_count": 9,
   "id": "d8042493",
   "metadata": {},
   "outputs": [
    {
     "data": {
      "text/plain": [
       "true"
      ]
     },
     "execution_count": 9,
     "metadata": {},
     "output_type": "execute_result"
    }
   ],
   "source": [
    "IsMonomorphism( m )"
   ]
  },
  {
   "cell_type": "code",
   "execution_count": null,
   "id": "c53a3c93",
   "metadata": {},
   "outputs": [],
   "source": []
  }
 ],
 "metadata": {
  "kernelspec": {
   "display_name": "Julia 1.6.2",
   "language": "julia",
   "name": "julia-1.6"
  },
  "language_info": {
   "file_extension": ".jl",
   "mimetype": "application/julia",
   "name": "julia",
   "version": "1.6.2"
  }
 },
 "nbformat": 4,
 "nbformat_minor": 5
}
