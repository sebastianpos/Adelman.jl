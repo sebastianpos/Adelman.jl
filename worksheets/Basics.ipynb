{
 "cells": [
  {
   "cell_type": "code",
   "execution_count": 1,
   "metadata": {},
   "outputs": [
    {
     "name": "stdout",
     "output_type": "stream",
     "text": [
      "\n",
      "Welcome to Nemo version 0.18.1\n",
      "\n",
      "Nemo comes with absolutely no warranty whatsoever\n",
      "\n",
      " ┌───────┐   GAP 4.11.0 of 29-Feb-2020\n",
      " │  GAP  │   https://www.gap-system.org\n",
      " └───────┘   Architecture: x86_64-pc-linux-gnu-julia64-kv7-v1.4\n",
      " Configuration:  gmp 6.1.2, Julia GC, Julia 1.4.2, readline\n",
      " Loading the library and packages ...\n",
      "#I  Browse package is not available. To see further details, enter\n",
      "#I  SetInfoLevel(InfoPackageLoading,4); and try to load the package again.\n",
      " Packages:   AClib 1.3.2, Alnuth 3.1.2, AtlasRep 2.1.0, AutoDoc 2019.09.04, \n",
      "             AutPGrp 1.10.2, CRISP 1.4.5, Cryst 4.1.23, CrystCat 1.1.9, \n",
      "             CTblLib 1.2.2, FactInt 1.6.3, FGA 1.4.0, Forms 1.2.5, \n",
      "             GAPDoc 1.6.3, genss 1.6.6, IO 4.7.0, IRREDSOL 1.4, LAGUNA 3.9.3, \n",
      "             orb 4.8.3, Polenta 1.3.9, Polycyclic 2.15.1, PrimGrp 3.4.0, \n",
      "             RadiRoot 2.8, recog 1.3.2, ResClasses 4.7.2, SmallGrp 1.4.1, \n",
      "             Sophus 1.24, SpinSym 1.5.2, TomLib 1.2.9, TransGrp 2.0.5, \n",
      "             utils 0.69\n",
      " Try '??help' for help. See also '?copyright', '?cite' and '?authors'\n",
      "CapAndHomalg v\u001b[32m1.0.0\u001b[39m\n",
      "Imported OSCAR's components GAP and Singular_jll\n",
      "Type: ?CapAndHomalg for more information\n"
     ]
    },
    {
     "data": {
      "text/plain": [
       "Main.Adelman"
      ]
     },
     "execution_count": 1,
     "metadata": {},
     "output_type": "execute_result"
    }
   ],
   "source": [
    "include( \"../src/Adelman.jl\" )"
   ]
  },
  {
   "cell_type": "code",
   "execution_count": 2,
   "metadata": {},
   "outputs": [],
   "source": [
    "using .Adelman"
   ]
  },
  {
   "cell_type": "markdown",
   "metadata": {},
   "source": [
    "### Creation of an Adelman category"
   ]
  },
  {
   "cell_type": "code",
   "execution_count": 3,
   "metadata": {},
   "outputs": [
    {
     "data": {
      "text/latex": [
       "Adelman category"
      ],
      "text/plain": [
       "AdelCat(Main.Adelman.Cat(GAP: Adelman category( QuiverRows( (Q * Q) / [ -1*(l*c) + 1*(a*m), -1*(m*d) + 1*(b*r) ] ) descended to Z )))"
      ]
     },
     "execution_count": 3,
     "metadata": {},
     "output_type": "execute_result"
    }
   ],
   "source": [
    "Adel = AdelmanCategory( \"Q(6)[a:1->2,b:2->3,c:4->5,d:5->6,m:2->5,l:1->4,r:3->6]\", \"am - lc, br - md\" )"
   ]
  },
  {
   "cell_type": "markdown",
   "metadata": {},
   "source": [
    "### Creation of objects"
   ]
  },
  {
   "cell_type": "code",
   "execution_count": 4,
   "metadata": {},
   "outputs": [
    {
     "data": {
      "text/latex": [
       "${ \\big(V_{1}^{}\\xrightarrow{\\begin{pmatrix}{(a) }\\end{pmatrix}}{  \\color{blue}{V_{2}^{}} }\\xrightarrow{\\begin{pmatrix}{(b) }\\end{pmatrix}}V_{3}^{}\\big)}$"
      ],
      "text/plain": [
       "AdelObj(Main.Adelman.Obj(GAP: <An object in Adelman category( QuiverRows( (Q * Q) / [ -1*(l*c) + 1*(a*m), -1*(m*d) + 1*(b*r) ] ) descended to Z )>))"
      ]
     },
     "execution_count": 4,
     "metadata": {},
     "output_type": "execute_result"
    }
   ],
   "source": [
    "A = (\"a\",\"b\")/Adel"
   ]
  },
  {
   "cell_type": "code",
   "execution_count": 5,
   "metadata": {},
   "outputs": [
    {
     "data": {
      "text/latex": [
       "${ \\big(V_{4}^{}\\xrightarrow{\\begin{pmatrix}{(c) }\\end{pmatrix}}{  \\color{blue}{V_{5}^{}} }\\xrightarrow{\\begin{pmatrix}{(d) }\\end{pmatrix}}V_{6}^{}\\big)}$"
      ],
      "text/plain": [
       "AdelObj(Main.Adelman.Obj(GAP: <An object in Adelman category( QuiverRows( (Q * Q) / [ -1*(l*c) + 1*(a*m), -1*(m*d) + 1*(b*r) ] ) descended to Z )>))"
      ]
     },
     "execution_count": 5,
     "metadata": {},
     "output_type": "execute_result"
    }
   ],
   "source": [
    "B = (\"c\",\"d\")/Adel"
   ]
  },
  {
   "cell_type": "code",
   "execution_count": 6,
   "metadata": {},
   "outputs": [
    {
     "data": {
      "text/latex": [
       "${ \\big(V_{1}^{} \\oplus V_{2}^{}\\xrightarrow{\\begin{pmatrix}{ -3(a) }\\\\{ 2(2) }\\end{pmatrix}}{  \\color{blue}{V_{2}^{}} }\\xrightarrow{0}0\\big)}$"
      ],
      "text/plain": [
       "AdelObj(Main.Adelman.Obj(GAP: <An object in Adelman category( QuiverRows( (Q * Q) / [ -1*(l*c) + 1*(a*m), -1*(m*d) + 1*(b*r) ] ) descended to Z )>))"
      ]
     },
     "execution_count": 6,
     "metadata": {},
     "output_type": "execute_result"
    }
   ],
   "source": [
    "([\"1\", \"2\"], [\"-3*a\", \"2*2\"], [\"2\"], [], [] )/Adel"
   ]
  },
  {
   "cell_type": "code",
   "execution_count": 7,
   "metadata": {},
   "outputs": [
    {
     "data": {
      "text/latex": [
       "${ \\big(V_{1}^{} \\oplus V_{2}^{}\\xrightarrow{\\begin{pmatrix}{ -3(a) }\\\\{ 2(2) }\\end{pmatrix}}{  \\color{blue}{V_{2}^{}} }\\xrightarrow{\\begin{pmatrix}{ 0 }&{(b) }&{-(m) }\\end{pmatrix}}V_{1}^{} \\oplus V_{3}^{} \\oplus V_{5}^{}\\big)}$"
      ],
      "text/plain": [
       "AdelObj(Main.Adelman.Obj(GAP: <An object in Adelman category( QuiverRows( (Q * Q) / [ -1*(l*c) + 1*(a*m), -1*(m*d) + 1*(b*r) ] ) descended to Z )>))"
      ]
     },
     "execution_count": 7,
     "metadata": {},
     "output_type": "execute_result"
    }
   ],
   "source": [
    "T = ([\"1\", \"2\"], [\"-3*a\", \"2*2\"], [\"2\"], [\"0\", \"b\", \"-m\"], [\"1\",\"3\",\"5\"] )/Adel"
   ]
  },
  {
   "cell_type": "code",
   "execution_count": 8,
   "metadata": {},
   "outputs": [
    {
     "data": {
      "text/latex": [
       "true"
      ],
      "text/plain": [
       "true"
      ]
     },
     "execution_count": 8,
     "metadata": {},
     "output_type": "execute_result"
    }
   ],
   "source": [
    "IsWellDefined( T )"
   ]
  },
  {
   "cell_type": "markdown",
   "metadata": {},
   "source": [
    "### Creation of morphisms"
   ]
  },
  {
   "cell_type": "code",
   "execution_count": 9,
   "metadata": {},
   "outputs": [
    {
     "data": {
      "text/latex": [
       "${ \\big(V_{1}^{}\\xrightarrow{\\begin{pmatrix}{(a) }\\end{pmatrix}}{  \\color{blue}{V_{2}^{}} }\\xrightarrow{\\begin{pmatrix}{(b) }\\end{pmatrix}}V_{3}^{}\\big)}{\\color{blue}{\\xrightarrow{\\begin{pmatrix}{(m) }\\end{pmatrix}}}}{ \\big(V_{4}^{}\\xrightarrow{\\begin{pmatrix}{(c) }\\end{pmatrix}}{  \\color{blue}{V_{5}^{}} }\\xrightarrow{\\begin{pmatrix}{(d) }\\end{pmatrix}}V_{6}^{}\\big)}$"
      ],
      "text/plain": [
       "AdelMor(Main.Adelman.Mor(GAP: <A morphism in Adelman category( QuiverRows( (Q * Q) / [ -1*(l*c) + 1*(a*m), -1*(m*d) + 1*(b*r) ] ) descended to Z )>))"
      ]
     },
     "execution_count": 9,
     "metadata": {},
     "output_type": "execute_result"
    }
   ],
   "source": [
    "α = AdelMor( A, [ \"m\" ], B )"
   ]
  },
  {
   "cell_type": "code",
   "execution_count": 10,
   "metadata": {},
   "outputs": [
    {
     "data": {
      "text/latex": [
       "true"
      ],
      "text/plain": [
       "true"
      ]
     },
     "execution_count": 10,
     "metadata": {},
     "output_type": "execute_result"
    }
   ],
   "source": [
    "IsWellDefined( α )"
   ]
  },
  {
   "cell_type": "markdown",
   "metadata": {},
   "source": [
    "### Computing with objects and morphisms"
   ]
  },
  {
   "cell_type": "code",
   "execution_count": 11,
   "metadata": {},
   "outputs": [
    {
     "data": {
      "text/latex": [
       "false"
      ],
      "text/plain": [
       "false"
      ]
     },
     "execution_count": 11,
     "metadata": {},
     "output_type": "execute_result"
    }
   ],
   "source": [
    "IsZero( T )"
   ]
  },
  {
   "cell_type": "code",
   "execution_count": 12,
   "metadata": {},
   "outputs": [
    {
     "data": {
      "text/latex": [
       "${ \\big(V_{1}^{} \\oplus V_{4}^{}\\xrightarrow{\\begin{pmatrix}{(a) }&{ 0 }\\\\{ 0 }&{(4) }\\end{pmatrix}}{  \\color{blue}{V_{2}^{} \\oplus V_{4}^{}} }\\xrightarrow{\\begin{pmatrix}{(b) }&{(m) }\\\\{ 0 }&{(c) }\\end{pmatrix}}V_{3}^{} \\oplus V_{5}^{}\\big)}{\\color{blue}{\\xrightarrow{\\begin{pmatrix}{(2) }\\\\{ 0 }\\end{pmatrix}}}}{ \\big(V_{1}^{}\\xrightarrow{\\begin{pmatrix}{(a) }\\end{pmatrix}}{  \\color{blue}{V_{2}^{}} }\\xrightarrow{\\begin{pmatrix}{(b) }\\end{pmatrix}}V_{3}^{}\\big)}$"
      ],
      "text/plain": [
       "AdelMor(Main.Adelman.Mor(GAP: <A monomorphism in Adelman category( QuiverRows( (Q * Q) / [ -1*(l*c) + 1*(a*m), -1*(m*d) + 1*(b*r) ] ) descended to Z )>))"
      ]
     },
     "execution_count": 12,
     "metadata": {},
     "output_type": "execute_result"
    }
   ],
   "source": [
    "KernelEmbedding( α )"
   ]
  },
  {
   "cell_type": "code",
   "execution_count": 13,
   "metadata": {},
   "outputs": [
    {
     "data": {
      "text/latex": [
       "${ \\big(V_{4}^{}\\xrightarrow{\\begin{pmatrix}{(c) }\\end{pmatrix}}{  \\color{blue}{V_{5}^{}} }\\xrightarrow{\\begin{pmatrix}{(d) }\\end{pmatrix}}V_{6}^{}\\big)}{\\color{blue}{\\xrightarrow{\\begin{pmatrix}{(5) }&{ 0 }\\end{pmatrix}}}}{ \\big(V_{4}^{} \\oplus V_{2}^{}\\xrightarrow{\\begin{pmatrix}{(c) }&{ 0 }\\\\{(m) }&{(b) }\\end{pmatrix}}{  \\color{blue}{V_{5}^{} \\oplus V_{3}^{}} }\\xrightarrow{\\begin{pmatrix}{(d) }&{ 0 }\\\\{ 0 }&{(3) }\\end{pmatrix}}V_{6}^{} \\oplus V_{3}^{}\\big)}$"
      ],
      "text/plain": [
       "AdelMor(Main.Adelman.Mor(GAP: <An epimorphism in Adelman category( QuiverRows( (Q * Q) / [ -1*(l*c) + 1*(a*m), -1*(m*d) + 1*(b*r) ] ) descended to Z )>))"
      ]
     },
     "execution_count": 13,
     "metadata": {},
     "output_type": "execute_result"
    }
   ],
   "source": [
    "CokernelProjection( α )"
   ]
  },
  {
   "cell_type": "code",
   "execution_count": 14,
   "metadata": {},
   "outputs": [
    {
     "data": {
      "text/latex": [
       "$\\big(\\mathbb{Z}^{1 \\times 0}\\xrightarrow{()_{0 \\times 1}}\\mathbb{Z}^{1 \\times 1}\\big)_{\\mathcal{A}}$"
      ],
      "text/plain": [
       "FreydObj(Main.Adelman.Obj(GAP: <An object in Freyd( Rows( Z ) )>))"
      ]
     },
     "execution_count": 14,
     "metadata": {},
     "output_type": "execute_result"
    }
   ],
   "source": [
    "Hom( A, B )"
   ]
  },
  {
   "cell_type": "code",
   "execution_count": 15,
   "metadata": {},
   "outputs": [
    {
     "data": {
      "text/latex": [
       "$\\big(\\mathbb{Z}^{1 \\times 1}\\xrightarrow{\\left( \\begin{array}{r}\n",
       " 2 \n",
       "\\end{array} \\right)}\\mathbb{Z}^{1 \\times 1}\\big)_{\\mathcal{A}}$"
      ],
      "text/plain": [
       "FreydObj(Main.Adelman.Obj(GAP: <An object in Freyd( Rows( Z ) )>))"
      ]
     },
     "execution_count": 15,
     "metadata": {},
     "output_type": "execute_result"
    }
   ],
   "source": [
    "Hom( T, T )"
   ]
  },
  {
   "cell_type": "code",
   "execution_count": 16,
   "metadata": {},
   "outputs": [
    {
     "data": {
      "text/latex": [
       "$\\big(\\mathbb{Z}^{1 \\times 0}\\xrightarrow{()_{0 \\times 0}}\\mathbb{Z}^{1 \\times 0}\\big)_{\\mathcal{A}}$"
      ],
      "text/plain": [
       "FreydObj(Main.Adelman.Obj(GAP: <An object in Freyd( Rows( Z ) )>))"
      ]
     },
     "execution_count": 16,
     "metadata": {},
     "output_type": "execute_result"
    }
   ],
   "source": [
    "Simplify( Hom( T, B ) )"
   ]
  },
  {
   "cell_type": "code",
   "execution_count": 17,
   "metadata": {},
   "outputs": [
    {
     "data": {
      "text/latex": [
       "${ \\big(V_{1}^{} \\oplus V_{2}^{}\\xrightarrow{\\begin{pmatrix}{ -3(a) }\\\\{ 2(2) }\\end{pmatrix}}{  \\color{blue}{V_{2}^{}} }\\xrightarrow{\\begin{pmatrix}{ 0 }&{(b) }&{-(m) }\\end{pmatrix}}V_{1}^{} \\oplus V_{3}^{} \\oplus V_{5}^{}\\big)}{\\color{blue}{\\xrightarrow{\\begin{pmatrix}{(2) }\\end{pmatrix}}}}{ \\big(V_{1}^{} \\oplus V_{2}^{}\\xrightarrow{\\begin{pmatrix}{ -3(a) }\\\\{ 2(2) }\\end{pmatrix}}{  \\color{blue}{V_{2}^{}} }\\xrightarrow{\\begin{pmatrix}{ 0 }&{(b) }&{-(m) }\\end{pmatrix}}V_{1}^{} \\oplus V_{3}^{} \\oplus V_{5}^{}\\big)}$"
      ],
      "text/plain": [
       "AdelMor(Main.Adelman.Mor(GAP: <A morphism in Adelman category( QuiverRows( (Q * Q) / [ -1*(l*c) + 1*(a*m), -1*(m*d) + 1*(b*r) ] ) descended to Z )>))"
      ]
     },
     "execution_count": 17,
     "metadata": {},
     "output_type": "execute_result"
    }
   ],
   "source": [
    "HomGens( T, T )[1]"
   ]
  },
  {
   "cell_type": "code",
   "execution_count": 18,
   "metadata": {},
   "outputs": [
    {
     "data": {
      "text/latex": [
       "${ \\big(0\\xrightarrow{0}{  \\color{blue}{V_{2}^{} \\oplus V_{4}^{}} }\\xrightarrow{\\begin{pmatrix}{(b) }&{(m) }\\\\{ 0 }&{(c) }\\end{pmatrix}}V_{3}^{} \\oplus V_{5}^{}\\big)}{\\color{blue}{\\xrightarrow{\\begin{pmatrix}{(2) }&{ 0 }\\\\{ 0 }&{(4) }\\end{pmatrix}}}}{ \\big(V_{1}^{} \\oplus V_{4}^{}\\xrightarrow{\\begin{pmatrix}{(a) }&{ 0 }\\\\{ 0 }&{(4) }\\end{pmatrix}}{  \\color{blue}{V_{2}^{} \\oplus V_{4}^{}} }\\xrightarrow{\\begin{pmatrix}{(b) }&{(m) }\\\\{ 0 }&{(c) }\\end{pmatrix}}V_{3}^{} \\oplus V_{5}^{}\\big)}$"
      ],
      "text/plain": [
       "AdelMor(Main.Adelman.Mor(GAP: <A morphism in Adelman category( QuiverRows( (Q * Q) / [ -1*(l*c) + 1*(a*m), -1*(m*d) + 1*(b*r) ] ) descended to Z )>))"
      ]
     },
     "execution_count": 18,
     "metadata": {},
     "output_type": "execute_result"
    }
   ],
   "source": [
    "ϵ = EpimorphismFromSomeProjectiveObject( KernelObject( α ) )"
   ]
  },
  {
   "cell_type": "code",
   "execution_count": 19,
   "metadata": {},
   "outputs": [
    {
     "data": {
      "text/latex": [
       "${ \\big(V_{1}^{} \\oplus V_{4}^{}\\xrightarrow{\\begin{pmatrix}{(a) }&{ 0 }\\\\{ 0 }&{(4) }\\end{pmatrix}}{  \\color{blue}{V_{2}^{} \\oplus V_{4}^{}} }\\xrightarrow{\\begin{pmatrix}{(b) }&{(m) }\\\\{ 0 }&{(c) }\\end{pmatrix}}V_{3}^{} \\oplus V_{5}^{}\\big)}{\\color{blue}{\\xrightarrow{\\begin{pmatrix}{(2) }&{ 0 }\\\\{ 0 }&{(4) }\\end{pmatrix}}}}{ \\big(V_{1}^{} \\oplus V_{4}^{}\\xrightarrow{\\begin{pmatrix}{(a) }&{ 0 }\\\\{ 0 }&{(4) }\\end{pmatrix}}{  \\color{blue}{V_{2}^{} \\oplus V_{4}^{}} }\\xrightarrow{0}0\\big)}$"
      ],
      "text/plain": [
       "AdelMor(Main.Adelman.Mor(GAP: <A morphism in Adelman category( QuiverRows( (Q * Q) / [ -1*(l*c) + 1*(a*m), -1*(m*d) + 1*(b*r) ] ) descended to Z )>))"
      ]
     },
     "execution_count": 19,
     "metadata": {},
     "output_type": "execute_result"
    }
   ],
   "source": [
    "ι = MonomorphismIntoSomeInjectiveObject( KernelObject( α ) )"
   ]
  },
  {
   "cell_type": "code",
   "execution_count": 20,
   "metadata": {},
   "outputs": [
    {
     "data": {
      "text/latex": [
       "${ \\big(V_{1}^{}\\xrightarrow{\\begin{pmatrix}{(a) }\\end{pmatrix}}{  \\color{blue}{V_{2}^{}} }\\xrightarrow{\\begin{pmatrix}{(b) }\\end{pmatrix}}V_{3}^{}\\big)}{\\color{blue}{\\xrightarrow{\\begin{pmatrix}{ -4(m) }\\end{pmatrix}}}}{ \\big(V_{4}^{}\\xrightarrow{\\begin{pmatrix}{(c) }\\end{pmatrix}}{  \\color{blue}{V_{5}^{}} }\\xrightarrow{\\begin{pmatrix}{(d) }\\end{pmatrix}}V_{6}^{}\\big)}$"
      ],
      "text/plain": [
       "AdelMor(Main.Adelman.Mor(GAP: <A morphism in Adelman category( QuiverRows( (Q * Q) / [ -1*(l*c) + 1*(a*m), -1*(m*d) + 1*(b*r) ] ) descended to Z )>))"
      ]
     },
     "execution_count": 20,
     "metadata": {},
     "output_type": "execute_result"
    }
   ],
   "source": [
    "-4 * α"
   ]
  },
  {
   "cell_type": "code",
   "execution_count": null,
   "metadata": {},
   "outputs": [],
   "source": []
  }
 ],
 "metadata": {
  "kernelspec": {
   "display_name": "Julia 1.4.2",
   "language": "julia",
   "name": "julia-1.4"
  },
  "language_info": {
   "file_extension": ".jl",
   "mimetype": "application/julia",
   "name": "julia",
   "version": "1.4.2"
  }
 },
 "nbformat": 4,
 "nbformat_minor": 2
}
