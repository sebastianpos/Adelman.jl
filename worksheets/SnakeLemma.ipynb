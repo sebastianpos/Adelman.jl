{
 "cells": [
  {
   "cell_type": "code",
   "execution_count": 1,
   "metadata": {
    "scrolled": true
   },
   "outputs": [
    {
     "name": "stdout",
     "output_type": "stream",
     "text": [
      "\n",
      "Welcome to Nemo version 0.18.1\n",
      "\n",
      "Nemo comes with absolutely no warranty whatsoever\n",
      "\n",
      " ┌───────┐   GAP 4.11.0 of 29-Feb-2020\n",
      " │  GAP  │   https://www.gap-system.org\n",
      " └───────┘   Architecture: x86_64-pc-linux-gnu-julia64-kv7-v1.4\n",
      " Configuration:  gmp 6.1.2, Julia GC, Julia 1.4.2, readline\n",
      " Loading the library and packages ...\n",
      "#I  Browse package is not available. To see further details, enter\n",
      "#I  SetInfoLevel(InfoPackageLoading,4); and try to load the package again.\n",
      " Packages:   AClib 1.3.2, Alnuth 3.1.2, AtlasRep 2.1.0, AutoDoc 2019.09.04, \n",
      "             AutPGrp 1.10.2, CRISP 1.4.5, Cryst 4.1.23, CrystCat 1.1.9, \n",
      "             CTblLib 1.2.2, FactInt 1.6.3, FGA 1.4.0, Forms 1.2.5, \n",
      "             GAPDoc 1.6.3, genss 1.6.6, IO 4.7.0, IRREDSOL 1.4, LAGUNA 3.9.3, \n",
      "             orb 4.8.3, Polenta 1.3.9, Polycyclic 2.15.1, PrimGrp 3.4.0, \n",
      "             RadiRoot 2.8, recog 1.3.2, ResClasses 4.7.2, SmallGrp 1.4.1, \n",
      "             Sophus 1.24, SpinSym 1.5.2, TomLib 1.2.9, TransGrp 2.0.5, \n",
      "             utils 0.69\n",
      " Try '??help' for help. See also '?copyright', '?cite' and '?authors'\n",
      "CapAndHomalg v\u001b[32m1.0.0\u001b[39m\n",
      "Imported OSCAR's components GAP and Singular_jll\n",
      "Type: ?CapAndHomalg for more information\n"
     ]
    },
    {
     "data": {
      "text/plain": [
       "Main.Adelman"
      ]
     },
     "execution_count": 1,
     "metadata": {},
     "output_type": "execute_result"
    }
   ],
   "source": [
    "include( \"../src/Adelman.jl\" )"
   ]
  },
  {
   "cell_type": "code",
   "execution_count": 2,
   "metadata": {},
   "outputs": [],
   "source": [
    "using .Adelman"
   ]
  },
  {
   "cell_type": "code",
   "execution_count": 3,
   "metadata": {},
   "outputs": [
    {
     "data": {
      "text/latex": [
       "Adelman category"
      ],
      "text/plain": [
       "AdelCat(Main.Adelman.Cat(GAP: Adelman category( QuiverRows( (Q * Q) / [ 1*(a*b*c) ] ) descended to Z )))"
      ]
     },
     "execution_count": 3,
     "metadata": {},
     "output_type": "execute_result"
    }
   ],
   "source": [
    "Adel = AdelmanCategory( \"Q(4)[a:1->2,b:2->3,c:3->4]\", \"abc\" )"
   ]
  },
  {
   "cell_type": "code",
   "execution_count": 4,
   "metadata": {
    "scrolled": true
   },
   "outputs": [
    {
     "data": {
      "text/latex": [
       "${ \\big(0\\xrightarrow{0}{  \\color{blue}{V_{3}^{}} }\\xrightarrow{0}0\\big)}{\\color{blue}{\\xrightarrow{\\begin{pmatrix}{(c) }\\end{pmatrix}}}}{ \\big(0\\xrightarrow{0}{  \\color{blue}{V_{4}^{}} }\\xrightarrow{0}0\\big)}$"
      ],
      "text/plain": [
       "AdelMor(Main.Adelman.Mor(GAP: <A morphism in Adelman category( QuiverRows( (Q * Q) / [ 1*(a*b*c) ] ) descended to Z )>))"
      ]
     },
     "execution_count": 4,
     "metadata": {},
     "output_type": "execute_result"
    }
   ],
   "source": [
    "a = \"a\"/Adel\n",
    "b = \"b\"/Adel\n",
    "c = \"c\"/Adel"
   ]
  },
  {
   "cell_type": "code",
   "execution_count": 5,
   "metadata": {},
   "outputs": [
    {
     "data": {
      "text/latex": [
       "${ \\big(V_{1}^{}\\xrightarrow{\\begin{pmatrix}{(a) }\\end{pmatrix}}{  \\color{blue}{V_{2}^{}} }\\xrightarrow{\\begin{pmatrix}{(bc) }\\end{pmatrix}}V_{4}^{}\\big)}$"
      ],
      "text/plain": [
       "AdelObj(Main.Adelman.Obj(GAP: <An object in Adelman category( QuiverRows( (Q * Q) / [ 1*(a*b*c) ] ) descended to Z )>))"
      ]
     },
     "execution_count": 5,
     "metadata": {},
     "output_type": "execute_result"
    }
   ],
   "source": [
    "K = KernelObject( CokernelColift( a, b ⋅ c ) )"
   ]
  },
  {
   "cell_type": "code",
   "execution_count": 6,
   "metadata": {},
   "outputs": [
    {
     "data": {
      "text/latex": [
       "${ \\big(V_{1}^{}\\xrightarrow{\\begin{pmatrix}{(ab) }\\end{pmatrix}}{  \\color{blue}{V_{3}^{}} }\\xrightarrow{\\begin{pmatrix}{(c) }\\end{pmatrix}}V_{4}^{}\\big)}$"
      ],
      "text/plain": [
       "AdelObj(Main.Adelman.Obj(GAP: <An object in Adelman category( QuiverRows( (Q * Q) / [ 1*(a*b*c) ] ) descended to Z )>))"
      ]
     },
     "execution_count": 6,
     "metadata": {},
     "output_type": "execute_result"
    }
   ],
   "source": [
    "C = CokernelObject( KernelLift( c, a ⋅ b ) )"
   ]
  },
  {
   "cell_type": "code",
   "execution_count": 7,
   "metadata": {},
   "outputs": [
    {
     "data": {
      "text/latex": [
       "$\\big(\\mathbb{Z}^{1 \\times 0}\\xrightarrow{()_{0 \\times 1}}\\mathbb{Z}^{1 \\times 1}\\big)_{\\mathcal{A}}$"
      ],
      "text/plain": [
       "FreydObj(Main.Adelman.Obj(GAP: <An object in Freyd( Rows( Z ) )>))"
      ]
     },
     "execution_count": 7,
     "metadata": {},
     "output_type": "execute_result"
    }
   ],
   "source": [
    "Hom( K, C )"
   ]
  },
  {
   "cell_type": "code",
   "execution_count": 8,
   "metadata": {},
   "outputs": [
    {
     "data": {
      "text/latex": [
       "${ \\big(V_{1}^{}\\xrightarrow{\\begin{pmatrix}{(a) }\\end{pmatrix}}{  \\color{blue}{V_{2}^{}} }\\xrightarrow{\\begin{pmatrix}{(bc) }\\end{pmatrix}}V_{4}^{}\\big)}{\\color{blue}{\\xrightarrow{\\begin{pmatrix}{-(b) }\\end{pmatrix}}}}{ \\big(V_{1}^{}\\xrightarrow{\\begin{pmatrix}{(ab) }\\end{pmatrix}}{  \\color{blue}{V_{3}^{}} }\\xrightarrow{\\begin{pmatrix}{(c) }\\end{pmatrix}}V_{4}^{}\\big)}$"
      ],
      "text/plain": [
       "AdelMor(Main.Adelman.Mor(GAP: <A morphism in Adelman category( QuiverRows( (Q * Q) / [ 1*(a*b*c) ] ) descended to Z )>))"
      ]
     },
     "execution_count": 8,
     "metadata": {},
     "output_type": "execute_result"
    }
   ],
   "source": [
    "snake = HomGens( K, C )[1]"
   ]
  },
  {
   "cell_type": "code",
   "execution_count": 9,
   "metadata": {},
   "outputs": [
    {
     "data": {
      "text/latex": [
       "${ \\big(0\\xrightarrow{0}{  \\color{blue}{V_{2}^{}} }\\xrightarrow{\\begin{pmatrix}{(b) }\\end{pmatrix}}V_{3}^{}\\big)}{\\color{blue}{\\xrightarrow{\\begin{pmatrix}{(2) }\\end{pmatrix}}}}{ \\big(V_{1}^{}\\xrightarrow{\\begin{pmatrix}{(a) }\\end{pmatrix}}{  \\color{blue}{V_{2}^{}} }\\xrightarrow{\\begin{pmatrix}{(bc) }\\end{pmatrix}}V_{4}^{}\\big)}$"
      ],
      "text/plain": [
       "AdelMor(Main.Adelman.Mor(GAP: <A morphism in Adelman category( QuiverRows( (Q * Q) / [ 1*(a*b*c) ] ) descended to Z )>))"
      ]
     },
     "execution_count": 9,
     "metadata": {},
     "output_type": "execute_result"
    }
   ],
   "source": [
    "π_a = CokernelProjection( a )\n",
    "λ_a = CokernelColift( a, b ⋅ c )\n",
    "k1 = KernelObjectFunctorial( b, π_a, λ_a )"
   ]
  },
  {
   "cell_type": "code",
   "execution_count": 10,
   "metadata": {},
   "outputs": [
    {
     "data": {
      "text/latex": [
       "true"
      ],
      "text/plain": [
       "true"
      ]
     },
     "execution_count": 10,
     "metadata": {},
     "output_type": "execute_result"
    }
   ],
   "source": [
    "IsZero( k1 ⋅ snake )"
   ]
  },
  {
   "cell_type": "code",
   "execution_count": 11,
   "metadata": {},
   "outputs": [
    {
     "data": {
      "text/latex": [
       "true"
      ],
      "text/plain": [
       "true"
      ]
     },
     "execution_count": 11,
     "metadata": {},
     "output_type": "execute_result"
    }
   ],
   "source": [
    "IsZero( HomologyObject( k1, snake ) )"
   ]
  },
  {
   "cell_type": "code",
   "execution_count": 12,
   "metadata": {},
   "outputs": [
    {
     "data": {
      "text/latex": [
       "${ \\big(V_{1}^{}\\xrightarrow{\\begin{pmatrix}{(ab) }\\end{pmatrix}}{  \\color{blue}{V_{3}^{}} }\\xrightarrow{\\begin{pmatrix}{(c) }\\end{pmatrix}}V_{4}^{}\\big)}{\\color{blue}{\\xrightarrow{\\begin{pmatrix}{(3) }\\end{pmatrix}}}}{ \\big(V_{2}^{}\\xrightarrow{\\begin{pmatrix}{(b) }\\end{pmatrix}}{  \\color{blue}{V_{3}^{}} }\\xrightarrow{0}0\\big)}$"
      ],
      "text/plain": [
       "AdelMor(Main.Adelman.Mor(GAP: <A morphism in Adelman category( QuiverRows( (Q * Q) / [ 1*(a*b*c) ] ) descended to Z )>))"
      ]
     },
     "execution_count": 12,
     "metadata": {},
     "output_type": "execute_result"
    }
   ],
   "source": [
    "ι_c = KernelEmbedding( c )\n",
    "λ_c = KernelLift( c, a ⋅ b  )\n",
    "k2 = CokernelObjectFunctorial( λ_c, ι_c, b )"
   ]
  },
  {
   "cell_type": "code",
   "execution_count": 13,
   "metadata": {},
   "outputs": [
    {
     "data": {
      "text/latex": [
       "true"
      ],
      "text/plain": [
       "true"
      ]
     },
     "execution_count": 13,
     "metadata": {},
     "output_type": "execute_result"
    }
   ],
   "source": [
    "IsZero( snake ⋅ k2 )"
   ]
  },
  {
   "cell_type": "code",
   "execution_count": 14,
   "metadata": {},
   "outputs": [
    {
     "data": {
      "text/latex": [
       "true"
      ],
      "text/plain": [
       "true"
      ]
     },
     "execution_count": 14,
     "metadata": {},
     "output_type": "execute_result"
    }
   ],
   "source": [
    "IsZero( HomologyObject( snake, k2 ) )"
   ]
  },
  {
   "cell_type": "code",
   "execution_count": null,
   "metadata": {},
   "outputs": [],
   "source": []
  }
 ],
 "metadata": {
  "kernelspec": {
   "display_name": "Julia 1.4.2",
   "language": "julia",
   "name": "julia-1.4"
  },
  "language_info": {
   "file_extension": ".jl",
   "mimetype": "application/julia",
   "name": "julia",
   "version": "1.4.2"
  }
 },
 "nbformat": 4,
 "nbformat_minor": 2
}
